{
 "cells": [
  {
   "cell_type": "code",
   "execution_count": 1,
   "id": "acquired-double",
   "metadata": {},
   "outputs": [
    {
     "name": "stdout",
     "output_type": "stream",
     "text": [
      "4.4104127999999997e-07\n",
      "0.00031291480336711623\n",
      "Snow, eps_r = (1.2+0.015j) n =  (1.0954665093781226+0.006846398256627879j) alpha =  0.2869119187963228\n",
      "Ice, eps_r = (3.2+0.00031291480336711623j) n = (1.7888543841379774+8.74623462693594e-05j) alpha =  0.003665283357753437\n"
     ]
    },
    {
     "data": {
      "text/plain": [
       "'\\nnRX = input_hdf.attrs[\"nReceivers\"] \\nprofile_str = input_hdf.attrs[\"nProf\"] \\nnTX = input_hdf.attrs[\"nTransmitters\"]\\n'"
      ]
     },
     "execution_count": 1,
     "metadata": {},
     "output_type": "execute_result"
    }
   ],
   "source": [
    "import util\n",
    "import numpy as np\n",
    "import paraPropPython as ppp\n",
    "from paraPropPython import receiver\n",
    "import scipy.signal as signal\n",
    "import util\n",
    "import h5py\n",
    "\n",
    "fname = \"simul_data.h5\"\n",
    "input_hdf = h5py.File(fname, 'r')\n",
    "\n",
    "iceDepth = input_hdf.attrs[\"iceDepth\"]\n",
    "iceLength = input_hdf.attrs[\"iceLength\"]\n",
    "airHeight = input_hdf.attrs[\"airHeight\"]\n",
    "dx = input_hdf.attrs[\"dx\"]\n",
    "dx = input_hdf.attrs[\"dz\"]\n",
    "\n",
    "\n",
    "Amplitude = input_hdf.attrs[\"Amplitude\"]\n",
    "freqCentral = input_hdf.attrs[\"freqCentral\"]\n",
    "freqLP = input_hdf.attrs[\"freqLP\"]\n",
    "freqHP = input_hdf.attrs[\"freqHP\"]\n",
    "freqSample = input_hdf.attrs[\"freqSample\"]\n",
    "freqNyquist = input_hdf.attrs[\"freqNyquist\"]\n",
    "tCentral = input_hdf.attrs[\"tCentral\"]\n",
    "tSample = input_hdf.attrs[\"tSample\"]\n",
    "dt = input_hdf.attrs[\"dt\"]\n",
    "nSamples = input_hdf.attrs[\"nSamples\"]\n",
    "\n",
    "tspace = np.linspace(0, dt*nSamples, nSamples)\n",
    "\n",
    "nRX = input_hdf.attrs[\"nReceivers\"] \n",
    "profile_str = input_hdf.attrs[\"nProf\"] \n",
    "nTX = input_hdf.attrs[\"nTransmitters\"]\n"
   ]
  },
  {
   "cell_type": "code",
   "execution_count": 3,
   "id": "shared-workplace",
   "metadata": {},
   "outputs": [
    {
     "name": "stdout",
     "output_type": "stream",
     "text": [
      "<HDF5 group \"/tx-1\" (1 members)>\n",
      "<KeysViewHDF5 ['signal', 'spectrum']>\n",
      "25\n"
     ]
    },
    {
     "ename": "NameError",
     "evalue": "name 'tspace' is not defined",
     "output_type": "error",
     "traceback": [
      "\u001b[0;31m---------------------------------------------------------------------------\u001b[0m",
      "\u001b[0;31mNameError\u001b[0m                                 Traceback (most recent call last)",
      "\u001b[0;32m<ipython-input-3-d0fe7385a867>\u001b[0m in \u001b[0;36m<module>\u001b[0;34m\u001b[0m\n\u001b[1;32m     13\u001b[0m         \u001b[0mrx\u001b[0m\u001b[0;34m.\u001b[0m\u001b[0msignal\u001b[0m \u001b[0;34m=\u001b[0m \u001b[0msignal\u001b[0m\u001b[0;34m\u001b[0m\u001b[0;34m\u001b[0m\u001b[0m\n\u001b[1;32m     14\u001b[0m         \u001b[0mrx\u001b[0m\u001b[0;34m.\u001b[0m\u001b[0mspectrum\u001b[0m \u001b[0;34m=\u001b[0m \u001b[0mspectrum\u001b[0m\u001b[0;34m\u001b[0m\u001b[0;34m\u001b[0m\u001b[0m\n\u001b[0;32m---> 15\u001b[0;31m         \u001b[0mrx\u001b[0m\u001b[0;34m.\u001b[0m\u001b[0mtime\u001b[0m \u001b[0;34m=\u001b[0m \u001b[0mtspace\u001b[0m\u001b[0;34m\u001b[0m\u001b[0;34m\u001b[0m\u001b[0m\n\u001b[0m\u001b[1;32m     16\u001b[0m         \u001b[0mrx\u001b[0m\u001b[0;34m.\u001b[0m\u001b[0mfreq\u001b[0m \u001b[0;34m=\u001b[0m \u001b[0mfreq_space\u001b[0m\u001b[0;34m\u001b[0m\u001b[0;34m\u001b[0m\u001b[0m\n\u001b[1;32m     17\u001b[0m         \u001b[0;31m#print(signal)\u001b[0m\u001b[0;34m\u001b[0m\u001b[0;34m\u001b[0m\u001b[0;34m\u001b[0m\u001b[0m\n",
      "\u001b[0;31mNameError\u001b[0m: name 'tspace' is not defined"
     ]
    }
   ],
   "source": [
    "input_hdf.keys()\n",
    "for tx_key in input_hdf.keys():\n",
    "    tx = input_hdf[tx_key]\n",
    "    print(tx)\n",
    "    sourceDepth = tx.attrs[\"sourceDepth\"]\n",
    "    for rx_key in tx.keys():\n",
    "        rx_k = tx[rx_key]\n",
    "        rx = receiver(rx_k.attrs[\"range\"], rx_k.attrs[\"depth\"])\n",
    "        print(rx_k.keys())\n",
    "        print(rx_k.attrs[\"depth\"])\n",
    "        signal = np.array(rx_k.get('signal'))\n",
    "        spectrum = np.array(rx_k.get('spectrum'))\n",
    "        rx.signal = signal\n",
    "        rx.spectrum = spectrum\n",
    "        rx.time = tspace\n",
    "        rx.freq = freq_space\n",
    "        #print(signal)"
   ]
  },
  {
   "cell_type": "code",
   "execution_count": null,
   "id": "finite-blast",
   "metadata": {},
   "outputs": [],
   "source": [
    "#Make a Paralell BScan:\n",
    "Antenna_Seperation = 10.\n",
    "\n",
    "rx_ranges = np.array(input_hdf.get(\"rx_ranges\"))\n",
    "tx_depths = np.array(input_hdf.get(\"tx_depths\"))\n",
    "rx_depths = np.array(input_hdf.get(\"rx_depths\"))\n",
    "\n",
    "ii_range = util.findNearest(rx_ranges, Antenna_Seperation)\n",
    "range_selected = rx_ranges[ii_range]\n",
    "\n",
    "parallel_antenna = []\n",
    "parallel_signal = np.zeros((nTX, nSamples), dtype='complex')\n",
    "nFreq_half = int(nSamples/2.)\n",
    "parallel_spectrum = np.zeros((nTX, nFreq_half), dtype='complex')\n",
    "ii = 0\n",
    "for tx_key in input_hdf.keys():\n",
    "    tx = input_hdf[tx_key]\n",
    "    print(rxList)\n",
    "    sourceDepth = tx.attrs[\"sourceDepth\"]\n",
    "    for rx_key in tx.keys():\n",
    "        rx_k = tx[rx_key]\n",
    "        rx = receiver(rx_k.attrs[\"range\"], rx_k.attrs[\"depth\"])\n",
    "        signal = np.array(rx_k.get('signal'))\n",
    "        spectrum = np.array(rx_k.get('spectrum'))\n",
    "        rx.signal = signal\n",
    "        rx.spectrum = spectrum\n",
    "        rx.time = tspace\n",
    "        rx.freq = freq_space\n",
    "        \n",
    "        if rx.z == sourceDepth and rx.x == range_selected:\n",
    "            parallel_signal[ii,:] = rx.get_signal()\n",
    "            parallel_spectrum[ii,:] = rx.get_spectrum()\n",
    "            \n",
    "            ii += 1"
   ]
  },
  {
   "cell_type": "code",
   "execution_count": null,
   "id": "sized-stanley",
   "metadata": {},
   "outputs": [],
   "source": [
    "fig = pl.figure(figsize=(10,6),dpi=100)\n",
    "ax = fig.add_subplot(111)\n",
    "ax.set_title('Paralell Scan, R = ' + str(range_selected) + ' m')\n",
    "\n",
    "vmax0 = 0\n",
    "vmin0 = -100\n",
    "\n",
    "pmesh = pl.imshow(20*np.log10(abs(parallel_signal)), extent=(tspace[0], tspace[-1], tx_depths[-1], tx_depths[0]), vmin = vmin0, vmax = vmax0, aspect='auto', cmap='hot')\n",
    "cbar = pl.colorbar(pmesh)\n",
    "cbar.set_label('Power [dBm]')\n",
    "ax.set_xlabel('Time [ns]')\n",
    "ax.set_ylabel('Depth [m]')\n",
    "pl.show()"
   ]
  }
 ],
 "metadata": {
  "kernelspec": {
   "display_name": "Python 3",
   "language": "python",
   "name": "python3"
  },
  "language_info": {
   "codemirror_mode": {
    "name": "ipython",
    "version": 3
   },
   "file_extension": ".py",
   "mimetype": "text/x-python",
   "name": "python",
   "nbconvert_exporter": "python",
   "pygments_lexer": "ipython3",
   "version": "3.7.10"
  }
 },
 "nbformat": 4,
 "nbformat_minor": 5
}
