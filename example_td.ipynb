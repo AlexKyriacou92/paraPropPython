{
 "cells": [
  {
   "cell_type": "code",
   "execution_count": 1,
   "metadata": {},
   "outputs": [],
   "source": [
    "# paraPropPython time-dependent signal example use of paraPropPython.py notebook\n",
    "# s. prohira, c. sbrocco\n",
    "\n",
    "%matplotlib inline\n",
    "import paraPropPython as ppp\n",
    "from receiver import receiver\n",
    "import numpy as np\n",
    "import matplotlib.pyplot as plt\n",
    "import util as util\n",
    "import time"
   ]
  },
  {
   "cell_type": "code",
   "execution_count": 2,
   "metadata": {},
   "outputs": [],
   "source": [
    "##### time-dependent example #####\n",
    "\n",
    "### first, initialize an instance of paraProp by defining its dimensions and frequency of interest ###\n",
    "iceDepth = 35. # m\n",
    "iceLength = 100. # m\n",
    "dx = 1 # m\n",
    "dz = 0.05 # m\n",
    "\n",
    "freq = 0.15\n",
    "\n",
    "### it is useful to set the reference depth as the source depth when you only have one transmitter ###\n",
    "sourceDepth = 30. # m\n",
    "sim = ppp.paraProp(iceLength, iceDepth, dx, dz, refDepth=sourceDepth, airHeight=1)\n",
    "\n",
    "### useful arrays for plottinng ###\n",
    "z = sim.get_z()\n",
    "x = sim.get_x()"
   ]
  },
  {
   "cell_type": "code",
   "execution_count": 3,
   "metadata": {},
   "outputs": [
    {
     "ename": "AttributeError",
     "evalue": "module 'numpy' has no attribute 'tranpose'",
     "output_type": "error",
     "traceback": [
      "\u001b[0;31m---------------------------------------------------------------------------\u001b[0m",
      "\u001b[0;31mAttributeError\u001b[0m                            Traceback (most recent call last)",
      "\u001b[0;32m<ipython-input-3-033a7ede9929>\u001b[0m in \u001b[0;36m<module>\u001b[0;34m\u001b[0m\n\u001b[1;32m      7\u001b[0m     \u001b[0mC\u001b[0m\u001b[0;34m=\u001b[0m\u001b[0;34m-\u001b[0m\u001b[0;36m0.0132\u001b[0m\u001b[0;34m\u001b[0m\u001b[0;34m\u001b[0m\u001b[0m\n\u001b[1;32m      8\u001b[0m     \u001b[0;32mreturn\u001b[0m \u001b[0mA\u001b[0m\u001b[0;34m+\u001b[0m\u001b[0mB\u001b[0m\u001b[0;34m*\u001b[0m\u001b[0mnp\u001b[0m\u001b[0;34m.\u001b[0m\u001b[0mexp\u001b[0m\u001b[0;34m(\u001b[0m\u001b[0mC\u001b[0m\u001b[0;34m*\u001b[0m\u001b[0mz\u001b[0m\u001b[0;34m)\u001b[0m\u001b[0;34m\u001b[0m\u001b[0;34m\u001b[0m\u001b[0m\n\u001b[0;32m----> 9\u001b[0;31m \u001b[0msim\u001b[0m\u001b[0;34m.\u001b[0m\u001b[0mset_n\u001b[0m\u001b[0;34m(\u001b[0m\u001b[0mnFunc\u001b[0m\u001b[0;34m=\u001b[0m\u001b[0msouthpole\u001b[0m\u001b[0;34m)\u001b[0m\u001b[0;34m\u001b[0m\u001b[0;34m\u001b[0m\u001b[0m\n\u001b[0m\u001b[1;32m     10\u001b[0m \u001b[0;34m\u001b[0m\u001b[0m\n\u001b[1;32m     11\u001b[0m \u001b[0;31m### plot ###\u001b[0m\u001b[0;34m\u001b[0m\u001b[0;34m\u001b[0m\u001b[0;34m\u001b[0m\u001b[0m\n",
      "\u001b[0;32m~/Uni/PhD/Python/paraPropPython/paraPropPython_multisim/paraPropPython.py\u001b[0m in \u001b[0;36mset_n\u001b[0;34m(self, nVal, nVec, nFunc, nAir)\u001b[0m\n\u001b[1;32m    191\u001b[0m \u001b[0;34m\u001b[0m\u001b[0m\n\u001b[1;32m    192\u001b[0m         \u001b[0mself\u001b[0m\u001b[0;34m.\u001b[0m\u001b[0mn\u001b[0m \u001b[0;34m=\u001b[0m \u001b[0mnp\u001b[0m\u001b[0;34m.\u001b[0m\u001b[0mtranspose\u001b[0m\u001b[0;34m(\u001b[0m\u001b[0mself\u001b[0m\u001b[0;34m.\u001b[0m\u001b[0mn\u001b[0m\u001b[0;34m)\u001b[0m\u001b[0;34m\u001b[0m\u001b[0;34m\u001b[0m\u001b[0m\n\u001b[0;32m--> 193\u001b[0;31m         \u001b[0mself\u001b[0m\u001b[0;34m.\u001b[0m\u001b[0mepsilon_r\u001b[0m \u001b[0;34m=\u001b[0m \u001b[0mnp\u001b[0m\u001b[0;34m.\u001b[0m\u001b[0mtranpose\u001b[0m\u001b[0;34m(\u001b[0m\u001b[0mself\u001b[0m\u001b[0;34m.\u001b[0m\u001b[0mepsilon_r\u001b[0m\u001b[0;34m)\u001b[0m\u001b[0;34m\u001b[0m\u001b[0;34m\u001b[0m\u001b[0m\n\u001b[0m\u001b[1;32m    194\u001b[0m \u001b[0;34m\u001b[0m\u001b[0m\n\u001b[1;32m    195\u001b[0m     \u001b[0;32mdef\u001b[0m \u001b[0mget_n\u001b[0m\u001b[0;34m(\u001b[0m\u001b[0mself\u001b[0m\u001b[0;34m)\u001b[0m\u001b[0;34m:\u001b[0m\u001b[0;34m\u001b[0m\u001b[0;34m\u001b[0m\u001b[0m\n",
      "\u001b[0;31mAttributeError\u001b[0m: module 'numpy' has no attribute 'tranpose'"
     ]
    }
   ],
   "source": [
    "### NOTE: define n before defining source ###\n",
    "\n",
    "### an example of defining n as a function of z (also can be done using a vector, see implementation) ###\n",
    "def southpole(z):\n",
    "    A=1.78\n",
    "    B=-0.43\n",
    "    C=-0.0132\n",
    "    return A+B*np.exp(C*z)\n",
    "sim.set_n(nFunc=southpole)\n",
    "\n",
    "### plot ###\n",
    "plt.plot(z, sim.get_n()[:,0], color='black')\n",
    "plt.ylabel('n')\n",
    "plt.xlabel('z (m)')\n",
    "plt.title('Index of Refraction Profile of Simulation')\n",
    "plt.xlim(z[0], z[-1])\n",
    "\n",
    "plt.show()"
   ]
  },
  {
   "cell_type": "code",
   "execution_count": null,
   "metadata": {},
   "outputs": [],
   "source": [
    "### an example of defining the source as a dipole ###\n",
    "### (also can be done using a vector or function like n, see implementation) ###\n",
    "sim.set_dipole_source_profile(freq, sourceDepth)\n",
    "\n",
    "### plot, zoomed in ###\n",
    "plt.plot(z, abs(sim.get_source_profile()), color='black')\n",
    "plt.ylabel('Field')\n",
    "plt.xlabel('z (m)')\n",
    "plt.title('Source Profile of Simulation')\n",
    "plt.xlim(sourceDepth - 5, sourceDepth + 5)\n",
    "plt.show()\n",
    "\n",
    "\n",
    "### set a td signal ###\n",
    "dt = 1\n",
    "impulse = np.zeros(2**8, dtype='complex')\n",
    "impulse[10] = 1+0j\n",
    "sig = util.normToMax(util.butterBandpassFilter(impulse, 0.09, 0.25, 1/dt, 4))\n",
    "sim.set_td_source_signal(sig, dt)\n",
    "\n",
    "t = sim.get_time()\n",
    "f = sim.get_frequency()\n",
    "A = sim.get_spectrum()\n",
    "plt.plot(t, sig.real)\n",
    "plt.show()\n",
    "plt.plot(f, abs(A))\n",
    "plt.show()\n"
   ]
  },
  {
   "cell_type": "code",
   "execution_count": null,
   "metadata": {},
   "outputs": [],
   "source": [
    "rxList = [receiver(100, 25)]\n",
    "tic = time.perf_counter()\n",
    "### run the solver ###\n",
    "sim.do_solver(rxList)\n",
    "toc = time.perf_counter()\n",
    "print(f\"Simulation ran in: {toc-tic:0.4} seconds\")"
   ]
  },
  {
   "cell_type": "code",
   "execution_count": null,
   "metadata": {},
   "outputs": [],
   "source": [
    "rx = rxList[0]\n",
    "t = rx.get_time()\n",
    "sig = rx.get_signal().real\n",
    "f = rx.get_frequency()\n",
    "spec = rx.get_spectrum()\n",
    "\n",
    "wrapped = np.roll(sig, -np.argmax(sig)+45)\n",
    "plt.plot(t, wrapped/max(wrapped))\n",
    "plt.xlabel(\"Time (ns)\")\n",
    "plt.ylabel(\"Field (norm.)\")\n",
    "plt.show()\n",
    "plt.plot(f, abs(spec)) \n",
    "plt.xlabel(\"Frequency (GHz)\")\n",
    "plt.ylabel(\"Mag. (abs)\")\n",
    "#plt.xlim(0,0.5)\n",
    "plt.show()\n",
    "\n"
   ]
  },
  {
   "cell_type": "code",
   "execution_count": null,
   "metadata": {},
   "outputs": [],
   "source": []
  },
  {
   "cell_type": "code",
   "execution_count": null,
   "metadata": {},
   "outputs": [],
   "source": []
  },
  {
   "cell_type": "code",
   "execution_count": null,
   "metadata": {},
   "outputs": [],
   "source": []
  }
 ],
 "metadata": {
  "kernelspec": {
   "display_name": "Python 3",
   "language": "python",
   "name": "python3"
  },
  "language_info": {
   "codemirror_mode": {
    "name": "ipython",
    "version": 3
   },
   "file_extension": ".py",
   "mimetype": "text/x-python",
   "name": "python",
   "nbconvert_exporter": "python",
   "pygments_lexer": "ipython3",
   "version": "3.6.13"
  }
 },
 "nbformat": 4,
 "nbformat_minor": 4
}
