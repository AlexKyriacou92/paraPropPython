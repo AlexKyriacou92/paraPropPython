{
 "cells": [
  {
   "cell_type": "code",
   "execution_count": 132,
   "id": "f25010a5",
   "metadata": {},
   "outputs": [],
   "source": [
    "import numpy as np\n",
    "import h5py\n",
    "import os\n",
    "import sys\n",
    "import scipy\n",
    "import matplotlib.pyplot as pl\n",
    "\n",
    "from scipy.interpolate import interp1d"
   ]
  },
  {
   "cell_type": "code",
   "execution_count": 121,
   "id": "4eee350f",
   "metadata": {},
   "outputs": [],
   "source": [
    "dir_list = os.listdir()"
   ]
  },
  {
   "cell_type": "code",
   "execution_count": 122,
   "id": "c872e5e1",
   "metadata": {},
   "outputs": [],
   "source": [
    "parallel_prof_0604 = h5py.File('parallel-profile-0605.h5', 'r')"
   ]
  },
  {
   "cell_type": "code",
   "execution_count": 124,
   "id": "7f8395c3",
   "metadata": {},
   "outputs": [
    {
     "name": "stdout",
     "output_type": "stream",
     "text": [
      "First Peak thres = 0.1\n",
      "First Peak thres = 0.2\n",
      "Max Peak\n",
      "Z_rx\n",
      "Z_tx\n",
      "amp_pks\n",
      "epsilon_r\n",
      "ref_index\n",
      "tof_pks\n"
     ]
    }
   ],
   "source": [
    "\n",
    "for key in parallel_prof_0604.keys():\n",
    "    print(key)\n",
    "\n",
    "for key in parallel_prof_0604['First Peak thres = 0.1'].keys():\n",
    "    print(key)\n",
    "n_data = np.array(parallel_prof_0604['Max Peak'].get('ref_index'))\n",
    "z_data = np.array(parallel_prof_0604.get(\"Z_tx\"))"
   ]
  },
  {
   "cell_type": "code",
   "execution_count": 125,
   "id": "967a9def",
   "metadata": {},
   "outputs": [
    {
     "data": {
      "text/plain": [
       "15.0"
      ]
     },
     "execution_count": 125,
     "metadata": {},
     "output_type": "execute_result"
    },
    {
     "data": {
      "image/png": "[encoded data removed]",
      "text/plain": [
       "<Figure size 432x288 with 1 Axes>"
      ]
     },
     "metadata": {
      "needs_background": "light"
     },
     "output_type": "display_data"
    }
   ],
   "source": [
    "pl.plot(z_data, n_data)\n",
    "max(z_data)"
   ]
  },
  {
   "cell_type": "code",
   "execution_count": 126,
   "id": "1193f171",
   "metadata": {},
   "outputs": [],
   "source": [
    "f_interp = interp1d(z_data, n_data)"
   ]
  },
  {
   "cell_type": "code",
   "execution_count": 127,
   "id": "b452676a",
   "metadata": {},
   "outputs": [],
   "source": [
    "z_arr = np.arange(0, 15, 0.05)\n",
    "n_interp = np.ones(len(z_arr))"
   ]
  },
  {
   "cell_type": "code",
   "execution_count": 128,
   "id": "b38e517d",
   "metadata": {},
   "outputs": [],
   "source": [
    "for i in range(len(z_arr)):\n",
    "    if z_arr[i] < 1:\n",
    "        n_interp[i] = n_data[0]\n",
    "    elif z_arr[i] > 15:\n",
    "        n_interp[i] = n_data[-1]\n",
    "    else:\n",
    "        n_interp[i] = f_interp(z_arr[i])"
   ]
  },
  {
   "cell_type": "code",
   "execution_count": 129,
   "id": "9c3a186d",
   "metadata": {},
   "outputs": [
    {
     "data": {
      "text/plain": [
       "[<matplotlib.lines.Line2D at 0x7effa6212e10>]"
      ]
     },
     "execution_count": 129,
     "metadata": {},
     "output_type": "execute_result"
    },
    {
     "data": {
      "image/png": "[encoded data removed]",
      "text/plain": [
       "<Figure size 432x288 with 1 Axes>"
      ]
     },
     "metadata": {
      "needs_background": "light"
     },
     "output_type": "display_data"
    }
   ],
   "source": [
    "pl.plot(z_arr, n_interp)\n"
   ]
  },
  {
   "cell_type": "code",
   "execution_count": 130,
   "id": "f40a96c5",
   "metadata": {},
   "outputs": [],
   "source": [
    "parallel_prof_0604.close()\n",
    "first_prof = open('aletsch_0604_max_peak_15m.txt', 'w')"
   ]
  },
  {
   "cell_type": "code",
   "execution_count": 131,
   "id": "99e22642",
   "metadata": {},
   "outputs": [],
   "source": [
    "for i in range(len(n_interp)):\n",
    "    if i < len(n_interp) - 1:\n",
    "        line = str(z_arr[i]) + '\\t' + str(n_interp[i]) + '\\n'\n",
    "    else:\n",
    "        line = str(z_arr[i]) + '\\t' + str(n_interp[i])\n",
    "    first_prof.write(line)\n",
    "first_prof.close()"
   ]
  },
  {
   "cell_type": "code",
   "execution_count": 118,
   "id": "3ab1985d",
   "metadata": {},
   "outputs": [
    {
     "data": {
      "text/plain": [
       "300"
      ]
     },
     "execution_count": 118,
     "metadata": {},
     "output_type": "execute_result"
    }
   ],
   "source": [
    "len(n_interp)"
   ]
  },
  {
   "cell_type": "code",
   "execution_count": 107,
   "id": "0769ee68",
   "metadata": {},
   "outputs": [
    {
     "data": {
      "text/plain": [
       "300.0"
      ]
     },
     "execution_count": 107,
     "metadata": {},
     "output_type": "execute_result"
    }
   ],
   "source": [
    "15/0.05"
   ]
  },
  {
   "cell_type": "code",
   "execution_count": null,
   "id": "d9335beb",
   "metadata": {},
   "outputs": [],
   "source": []
  },
  {
   "cell_type": "code",
   "execution_count": null,
   "id": "a0462f7c",
   "metadata": {},
   "outputs": [],
   "source": []
  }
 ],
 "metadata": {
  "kernelspec": {
   "display_name": "Python 3",
   "language": "python",
   "name": "python3"
  },
  "language_info": {
   "codemirror_mode": {
    "name": "ipython",
    "version": 3
   },
   "file_extension": ".py",
   "mimetype": "text/x-python",
   "name": "python",
   "nbconvert_exporter": "python",
   "pygments_lexer": "ipython3",
   "version": "3.6.13"
  }
 },
 "nbformat": 4,
 "nbformat_minor": 5
}
